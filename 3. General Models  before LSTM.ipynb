{
 "cells": [
  {
   "cell_type": "code",
   "execution_count": 1,
   "id": "8f17dd6a",
   "metadata": {},
   "outputs": [],
   "source": [
    "import pandas as pd\n",
    "import seaborn as sns\n",
    "import matplotlib.pyplot as plt"
   ]
  },
  {
   "cell_type": "code",
   "execution_count": 2,
   "id": "3f028b92",
   "metadata": {},
   "outputs": [],
   "source": [
    "import numpy as np"
   ]
  },
  {
   "cell_type": "code",
   "execution_count": 3,
   "id": "4b2d49f0",
   "metadata": {},
   "outputs": [],
   "source": [
    "import warnings\n",
    "warnings.filterwarnings(\"ignore\")"
   ]
  },
  {
   "cell_type": "code",
   "execution_count": 4,
   "id": "cbeb7787",
   "metadata": {},
   "outputs": [],
   "source": [
    "df = pd.read_csv(\"walkrun_clean.csv\",index_col=0)"
   ]
  },
  {
   "cell_type": "code",
   "execution_count": 5,
   "id": "fef41bc3",
   "metadata": {},
   "outputs": [
    {
     "data": {
      "text/html": [
       "<div>\n",
       "<style scoped>\n",
       "    .dataframe tbody tr th:only-of-type {\n",
       "        vertical-align: middle;\n",
       "    }\n",
       "\n",
       "    .dataframe tbody tr th {\n",
       "        vertical-align: top;\n",
       "    }\n",
       "\n",
       "    .dataframe thead th {\n",
       "        text-align: right;\n",
       "    }\n",
       "</style>\n",
       "<table border=\"1\" class=\"dataframe\">\n",
       "  <thead>\n",
       "    <tr style=\"text-align: right;\">\n",
       "      <th></th>\n",
       "      <th>activity</th>\n",
       "      <th>acceleration_x</th>\n",
       "      <th>acceleration_y</th>\n",
       "      <th>acceleration_z</th>\n",
       "      <th>gyro_x</th>\n",
       "      <th>gyro_y</th>\n",
       "      <th>gyro_z</th>\n",
       "      <th>date_time</th>\n",
       "    </tr>\n",
       "  </thead>\n",
       "  <tbody>\n",
       "    <tr>\n",
       "      <th>0</th>\n",
       "      <td>0</td>\n",
       "      <td>0.2650</td>\n",
       "      <td>-0.7814</td>\n",
       "      <td>-0.0076</td>\n",
       "      <td>-0.0590</td>\n",
       "      <td>0.0325</td>\n",
       "      <td>-2.9296</td>\n",
       "      <td>2017-06-30 13:51:15.847724020</td>\n",
       "    </tr>\n",
       "    <tr>\n",
       "      <th>1</th>\n",
       "      <td>0</td>\n",
       "      <td>0.6722</td>\n",
       "      <td>-1.1233</td>\n",
       "      <td>-0.2344</td>\n",
       "      <td>-0.1757</td>\n",
       "      <td>0.0208</td>\n",
       "      <td>0.1269</td>\n",
       "      <td>2017-06-30 13:51:16.246945023</td>\n",
       "    </tr>\n",
       "    <tr>\n",
       "      <th>2</th>\n",
       "      <td>0</td>\n",
       "      <td>0.4399</td>\n",
       "      <td>-1.4817</td>\n",
       "      <td>0.0722</td>\n",
       "      <td>-0.9105</td>\n",
       "      <td>0.1063</td>\n",
       "      <td>-2.4367</td>\n",
       "      <td>2017-06-30 13:51:16.446233987</td>\n",
       "    </tr>\n",
       "    <tr>\n",
       "      <th>3</th>\n",
       "      <td>0</td>\n",
       "      <td>0.3031</td>\n",
       "      <td>-0.8125</td>\n",
       "      <td>0.0888</td>\n",
       "      <td>0.1199</td>\n",
       "      <td>-0.4099</td>\n",
       "      <td>-2.9336</td>\n",
       "      <td>2017-06-30 13:51:16.646117985</td>\n",
       "    </tr>\n",
       "    <tr>\n",
       "      <th>4</th>\n",
       "      <td>0</td>\n",
       "      <td>0.4814</td>\n",
       "      <td>-0.9312</td>\n",
       "      <td>0.0359</td>\n",
       "      <td>0.0527</td>\n",
       "      <td>0.4379</td>\n",
       "      <td>2.4922</td>\n",
       "      <td>2017-06-30 13:51:16.846738994</td>\n",
       "    </tr>\n",
       "  </tbody>\n",
       "</table>\n",
       "</div>"
      ],
      "text/plain": [
       "   activity  acceleration_x  acceleration_y  acceleration_z  gyro_x  gyro_y  \\\n",
       "0         0          0.2650         -0.7814         -0.0076 -0.0590  0.0325   \n",
       "1         0          0.6722         -1.1233         -0.2344 -0.1757  0.0208   \n",
       "2         0          0.4399         -1.4817          0.0722 -0.9105  0.1063   \n",
       "3         0          0.3031         -0.8125          0.0888  0.1199 -0.4099   \n",
       "4         0          0.4814         -0.9312          0.0359  0.0527  0.4379   \n",
       "\n",
       "   gyro_z                      date_time  \n",
       "0 -2.9296  2017-06-30 13:51:15.847724020  \n",
       "1  0.1269  2017-06-30 13:51:16.246945023  \n",
       "2 -2.4367  2017-06-30 13:51:16.446233987  \n",
       "3 -2.9336  2017-06-30 13:51:16.646117985  \n",
       "4  2.4922  2017-06-30 13:51:16.846738994  "
      ]
     },
     "execution_count": 5,
     "metadata": {},
     "output_type": "execute_result"
    }
   ],
   "source": [
    "df.head()"
   ]
  },
  {
   "cell_type": "markdown",
   "id": "f45161ad",
   "metadata": {},
   "source": [
    "#### From past observations we have seen that acceleration sensors are prominent in determining the walk and run class"
   ]
  },
  {
   "cell_type": "markdown",
   "id": "a01ac889",
   "metadata": {},
   "source": [
    "#### Lets try Logistic regression using only acceleration_y since it is more efficient form our previous observations"
   ]
  },
  {
   "cell_type": "code",
   "execution_count": 6,
   "id": "508ee122",
   "metadata": {},
   "outputs": [],
   "source": [
    "X = np.array(df.acceleration_y)"
   ]
  },
  {
   "cell_type": "code",
   "execution_count": 7,
   "id": "3168e585",
   "metadata": {},
   "outputs": [],
   "source": [
    "y = np.array(df.activity)"
   ]
  },
  {
   "cell_type": "code",
   "execution_count": 8,
   "id": "8897739f",
   "metadata": {},
   "outputs": [],
   "source": [
    "from sklearn.model_selection import train_test_split"
   ]
  },
  {
   "cell_type": "code",
   "execution_count": 9,
   "id": "f9f3b6e4",
   "metadata": {},
   "outputs": [],
   "source": [
    "#since its a sequential data lets not shuffle the data\n",
    "X_train,X_test,y_train,y_test = train_test_split(X,y,test_size=0.2,random_state=2,shuffle=False)"
   ]
  },
  {
   "cell_type": "code",
   "execution_count": 10,
   "id": "4e6506e8",
   "metadata": {},
   "outputs": [
    {
     "data": {
      "text/plain": [
       "(70870,)"
      ]
     },
     "execution_count": 10,
     "metadata": {},
     "output_type": "execute_result"
    }
   ],
   "source": [
    "X_train.shape"
   ]
  },
  {
   "cell_type": "code",
   "execution_count": 11,
   "id": "c6d6b12b",
   "metadata": {},
   "outputs": [],
   "source": [
    "X_train = np.array(X_train)"
   ]
  },
  {
   "cell_type": "code",
   "execution_count": 12,
   "id": "39426f72",
   "metadata": {},
   "outputs": [],
   "source": [
    "X_train = X_train.reshape((70870,1))"
   ]
  },
  {
   "cell_type": "code",
   "execution_count": 13,
   "id": "2e3d5724",
   "metadata": {},
   "outputs": [],
   "source": [
    "y_train = np.array(y_train)"
   ]
  },
  {
   "cell_type": "code",
   "execution_count": 14,
   "id": "ce8658e4",
   "metadata": {},
   "outputs": [],
   "source": [
    "y_train = y_train.reshape((70870,1))"
   ]
  },
  {
   "cell_type": "code",
   "execution_count": 15,
   "id": "ae756ced",
   "metadata": {},
   "outputs": [],
   "source": [
    "from sklearn.linear_model import LogisticRegression"
   ]
  },
  {
   "cell_type": "code",
   "execution_count": 16,
   "id": "36b6c7ec",
   "metadata": {},
   "outputs": [],
   "source": [
    "model = LogisticRegression(max_iter=100)"
   ]
  },
  {
   "cell_type": "code",
   "execution_count": 17,
   "id": "28d0e31e",
   "metadata": {},
   "outputs": [
    {
     "data": {
      "text/plain": [
       "LogisticRegression()"
      ]
     },
     "execution_count": 17,
     "metadata": {},
     "output_type": "execute_result"
    }
   ],
   "source": [
    "model.fit(X_train,y_train)"
   ]
  },
  {
   "cell_type": "code",
   "execution_count": 18,
   "id": "c1c82edb",
   "metadata": {},
   "outputs": [
    {
     "data": {
      "text/plain": [
       "(17718,)"
      ]
     },
     "execution_count": 18,
     "metadata": {},
     "output_type": "execute_result"
    }
   ],
   "source": [
    "X_test.shape"
   ]
  },
  {
   "cell_type": "code",
   "execution_count": 19,
   "id": "07194682",
   "metadata": {},
   "outputs": [],
   "source": [
    "X_test = X_test.reshape((17718,1))"
   ]
  },
  {
   "cell_type": "code",
   "execution_count": 20,
   "id": "bddbf5b9",
   "metadata": {},
   "outputs": [],
   "source": [
    "y_test = y_test.reshape((17718,1))"
   ]
  },
  {
   "cell_type": "markdown",
   "id": "7c1a7fb0",
   "metadata": {},
   "source": [
    "# Prediction and evaluation"
   ]
  },
  {
   "cell_type": "code",
   "execution_count": 22,
   "id": "a2796511",
   "metadata": {},
   "outputs": [],
   "source": [
    "y_predict = model.predict(X_test)"
   ]
  },
  {
   "cell_type": "code",
   "execution_count": 42,
   "id": "8d57fbd9",
   "metadata": {},
   "outputs": [],
   "source": [
    "from sklearn.metrics import classification_report,accuracy_score"
   ]
  },
  {
   "cell_type": "code",
   "execution_count": 43,
   "id": "196efe8e",
   "metadata": {},
   "outputs": [
    {
     "data": {
      "text/plain": [
       "0.901004628061858"
      ]
     },
     "execution_count": 43,
     "metadata": {},
     "output_type": "execute_result"
    }
   ],
   "source": [
    "accuracy_score(y_test,y_predict)"
   ]
  },
  {
   "cell_type": "code",
   "execution_count": 66,
   "id": "da56fdab",
   "metadata": {},
   "outputs": [
    {
     "name": "stdout",
     "output_type": "stream",
     "text": [
      "              precision    recall  f1-score   support\n",
      "\n",
      "           0       0.97      0.87      0.92     10907\n",
      "           1       0.82      0.96      0.88      6811\n",
      "\n",
      "    accuracy                           0.90     17718\n",
      "   macro avg       0.89      0.91      0.90     17718\n",
      "weighted avg       0.91      0.90      0.90     17718\n",
      "\n"
     ]
    }
   ],
   "source": [
    "print(classification_report(y_test,y_predict))"
   ]
  },
  {
   "cell_type": "code",
   "execution_count": 64,
   "id": "412b4b8e",
   "metadata": {},
   "outputs": [
    {
     "data": {
      "text/plain": [
       "Text(0.5, 1.0, 'Using Logistic Regression')"
      ]
     },
     "execution_count": 64,
     "metadata": {},
     "output_type": "execute_result"
    },
    {
     "data": {
      "image/png": "[encoded data removed]",
      "text/plain": [
       "<Figure size 432x288 with 1 Axes>"
      ]
     },
     "metadata": {
      "needs_background": "light"
     },
     "output_type": "display_data"
    }
   ],
   "source": [
    "plt.plot(y_predict)\n",
    "\n",
    "plt.plot(y_test,\"ro\")\n",
    "\n",
    "plt.legend(['Predicted Values', 'True Values'])\n",
    "plt.title(\"Using Logistic Regression\")"
   ]
  },
  {
   "cell_type": "markdown",
   "id": "886dfe03",
   "metadata": {},
   "source": [
    "## Observations: \n",
    "    *  Logistic Regresion with only one feature ( acceleration_y ) is giving us an accuracy of 90% with good precision and recall\n",
    "    * Though the accuracy is more but still the prediction vary more since no sequential info is stored"
   ]
  },
  {
   "cell_type": "code",
   "execution_count": 74,
   "id": "454c0619",
   "metadata": {},
   "outputs": [],
   "source": [
    "# Now lets try using SVM with all accelerometrics sensors to check whether it may help us better"
   ]
  },
  {
   "cell_type": "code",
   "execution_count": 31,
   "id": "06fe7649",
   "metadata": {},
   "outputs": [],
   "source": [
    "X_new = df.iloc[:,[1,2,3]]"
   ]
  },
  {
   "cell_type": "code",
   "execution_count": 32,
   "id": "5a112067",
   "metadata": {},
   "outputs": [
    {
     "data": {
      "text/html": [
       "<div>\n",
       "<style scoped>\n",
       "    .dataframe tbody tr th:only-of-type {\n",
       "        vertical-align: middle;\n",
       "    }\n",
       "\n",
       "    .dataframe tbody tr th {\n",
       "        vertical-align: top;\n",
       "    }\n",
       "\n",
       "    .dataframe thead th {\n",
       "        text-align: right;\n",
       "    }\n",
       "</style>\n",
       "<table border=\"1\" class=\"dataframe\">\n",
       "  <thead>\n",
       "    <tr style=\"text-align: right;\">\n",
       "      <th></th>\n",
       "      <th>acceleration_x</th>\n",
       "      <th>acceleration_y</th>\n",
       "      <th>acceleration_z</th>\n",
       "    </tr>\n",
       "  </thead>\n",
       "  <tbody>\n",
       "    <tr>\n",
       "      <th>0</th>\n",
       "      <td>0.2650</td>\n",
       "      <td>-0.7814</td>\n",
       "      <td>-0.0076</td>\n",
       "    </tr>\n",
       "    <tr>\n",
       "      <th>1</th>\n",
       "      <td>0.6722</td>\n",
       "      <td>-1.1233</td>\n",
       "      <td>-0.2344</td>\n",
       "    </tr>\n",
       "    <tr>\n",
       "      <th>2</th>\n",
       "      <td>0.4399</td>\n",
       "      <td>-1.4817</td>\n",
       "      <td>0.0722</td>\n",
       "    </tr>\n",
       "    <tr>\n",
       "      <th>3</th>\n",
       "      <td>0.3031</td>\n",
       "      <td>-0.8125</td>\n",
       "      <td>0.0888</td>\n",
       "    </tr>\n",
       "    <tr>\n",
       "      <th>4</th>\n",
       "      <td>0.4814</td>\n",
       "      <td>-0.9312</td>\n",
       "      <td>0.0359</td>\n",
       "    </tr>\n",
       "  </tbody>\n",
       "</table>\n",
       "</div>"
      ],
      "text/plain": [
       "   acceleration_x  acceleration_y  acceleration_z\n",
       "0          0.2650         -0.7814         -0.0076\n",
       "1          0.6722         -1.1233         -0.2344\n",
       "2          0.4399         -1.4817          0.0722\n",
       "3          0.3031         -0.8125          0.0888\n",
       "4          0.4814         -0.9312          0.0359"
      ]
     },
     "execution_count": 32,
     "metadata": {},
     "output_type": "execute_result"
    }
   ],
   "source": [
    "X_new.head()"
   ]
  },
  {
   "cell_type": "code",
   "execution_count": 33,
   "id": "9d47d07a",
   "metadata": {},
   "outputs": [],
   "source": [
    "y_new = df.activity"
   ]
  },
  {
   "cell_type": "code",
   "execution_count": 34,
   "id": "b62b316e",
   "metadata": {},
   "outputs": [
    {
     "data": {
      "text/plain": [
       "0    0\n",
       "1    0\n",
       "2    0\n",
       "3    0\n",
       "4    0\n",
       "Name: activity, dtype: int64"
      ]
     },
     "execution_count": 34,
     "metadata": {},
     "output_type": "execute_result"
    }
   ],
   "source": [
    "y_new.head()"
   ]
  },
  {
   "cell_type": "code",
   "execution_count": 35,
   "id": "bd3399a3",
   "metadata": {},
   "outputs": [],
   "source": [
    "#since its a sequential data lets not shuffle the data\n",
    "X_train_new,X_test_new,y_train_new,y_test_new = train_test_split(X_new,y_new,test_size=0.2,random_state=2,shuffle=False)"
   ]
  },
  {
   "cell_type": "code",
   "execution_count": 36,
   "id": "773ad6fb",
   "metadata": {},
   "outputs": [],
   "source": [
    "## svm classifier for classification"
   ]
  },
  {
   "cell_type": "code",
   "execution_count": 37,
   "id": "95c9e6d0",
   "metadata": {},
   "outputs": [],
   "source": [
    "from sklearn.svm import SVC"
   ]
  },
  {
   "cell_type": "code",
   "execution_count": 38,
   "id": "4527510c",
   "metadata": {},
   "outputs": [],
   "source": [
    "model_new = SVC(C=0.1, gamma=1, kernel=\"rbf\")"
   ]
  },
  {
   "cell_type": "code",
   "execution_count": 39,
   "id": "d9ae0b8a",
   "metadata": {},
   "outputs": [
    {
     "data": {
      "text/plain": [
       "SVC(C=0.1, gamma=1)"
      ]
     },
     "execution_count": 39,
     "metadata": {},
     "output_type": "execute_result"
    }
   ],
   "source": [
    "model_new.fit(X_train_new,y_train_new)"
   ]
  },
  {
   "cell_type": "markdown",
   "id": "911bff6a",
   "metadata": {},
   "source": [
    "# Prediction and evaluation"
   ]
  },
  {
   "cell_type": "code",
   "execution_count": 40,
   "id": "607f2f5f",
   "metadata": {},
   "outputs": [],
   "source": [
    "y_predictions = model_new.predict(X_test_new)"
   ]
  },
  {
   "cell_type": "code",
   "execution_count": 44,
   "id": "f2615e58",
   "metadata": {},
   "outputs": [
    {
     "data": {
      "text/plain": [
       "0.9835195846032283"
      ]
     },
     "execution_count": 44,
     "metadata": {},
     "output_type": "execute_result"
    }
   ],
   "source": [
    "accuracy_score(y_test_new,y_predictions)"
   ]
  },
  {
   "cell_type": "code",
   "execution_count": 45,
   "id": "00ede3ef",
   "metadata": {},
   "outputs": [
    {
     "name": "stdout",
     "output_type": "stream",
     "text": [
      "              precision    recall  f1-score   support\n",
      "\n",
      "           0       0.99      0.98      0.99     10907\n",
      "           1       0.97      0.99      0.98      6811\n",
      "\n",
      "    accuracy                           0.98     17718\n",
      "   macro avg       0.98      0.98      0.98     17718\n",
      "weighted avg       0.98      0.98      0.98     17718\n",
      "\n"
     ]
    }
   ],
   "source": [
    "print(classification_report(y_test_new,y_predictions))"
   ]
  },
  {
   "cell_type": "code",
   "execution_count": 60,
   "id": "3d91263b",
   "metadata": {},
   "outputs": [
    {
     "data": {
      "text/plain": [
       "<matplotlib.legend.Legend at 0x116aca28508>"
      ]
     },
     "execution_count": 60,
     "metadata": {},
     "output_type": "execute_result"
    },
    {
     "data": {
      "image/png": "[encoded data removed]",
      "text/plain": [
       "<Figure size 432x288 with 1 Axes>"
      ]
     },
     "metadata": {
      "needs_background": "light"
     },
     "output_type": "display_data"
    }
   ],
   "source": [
    "plt.plot(y_predictions)\n",
    "plt.title(\"Using SVM\")\n",
    "plt.legend(['Predicted Values'])"
   ]
  },
  {
   "cell_type": "markdown",
   "id": "b9f97dfb",
   "metadata": {},
   "source": [
    "## Observations: \n",
    "    *  SVM  is giving us an accuracy of 98% with excellent precision and recall of 98% \n",
    "    * But still there is huge variance in each prediction "
   ]
  },
  {
   "cell_type": "markdown",
   "id": "4f42a8df",
   "metadata": {},
   "source": [
    "## Though general models are working  well on this data but sequential information is NOT preserved in this models.\n",
    "\n",
    "\n",
    "### So the models are varying after every certain number of prediction \n",
    "\n",
    "Lets try using LSTM to see how accurate the predictions are"
   ]
  },
  {
   "cell_type": "code",
   "execution_count": null,
   "id": "613dff8d",
   "metadata": {},
   "outputs": [],
   "source": []
  }
 ],
 "metadata": {
  "kernelspec": {
   "display_name": "Python 3 (ipykernel)",
   "language": "python",
   "name": "python3"
  },
  "language_info": {
   "codemirror_mode": {
    "name": "ipython",
    "version": 3
   },
   "file_extension": ".py",
   "mimetype": "text/x-python",
   "name": "python",
   "nbconvert_exporter": "python",
   "pygments_lexer": "ipython3",
   "version": "3.7.11"
  }
 },
 "nbformat": 4,
 "nbformat_minor": 5
}
