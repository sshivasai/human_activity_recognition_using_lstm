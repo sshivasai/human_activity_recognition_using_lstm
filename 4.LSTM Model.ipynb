{
 "cells": [
  {
   "cell_type": "code",
   "execution_count": 1,
   "id": "69b261be",
   "metadata": {},
   "outputs": [],
   "source": [
    "import pandas as pd"
   ]
  },
  {
   "cell_type": "code",
   "execution_count": 2,
   "id": "85cf79a2",
   "metadata": {},
   "outputs": [
    {
     "data": {
      "text/html": [
       "<div>\n",
       "<style scoped>\n",
       "    .dataframe tbody tr th:only-of-type {\n",
       "        vertical-align: middle;\n",
       "    }\n",
       "\n",
       "    .dataframe tbody tr th {\n",
       "        vertical-align: top;\n",
       "    }\n",
       "\n",
       "    .dataframe thead th {\n",
       "        text-align: right;\n",
       "    }\n",
       "</style>\n",
       "<table border=\"1\" class=\"dataframe\">\n",
       "  <thead>\n",
       "    <tr style=\"text-align: right;\">\n",
       "      <th></th>\n",
       "      <th>activity</th>\n",
       "      <th>acceleration_x</th>\n",
       "      <th>acceleration_y</th>\n",
       "      <th>acceleration_z</th>\n",
       "      <th>gyro_x</th>\n",
       "      <th>gyro_y</th>\n",
       "      <th>gyro_z</th>\n",
       "      <th>date_time</th>\n",
       "    </tr>\n",
       "  </thead>\n",
       "  <tbody>\n",
       "    <tr>\n",
       "      <th>0</th>\n",
       "      <td>0</td>\n",
       "      <td>0.2650</td>\n",
       "      <td>-0.7814</td>\n",
       "      <td>-0.0076</td>\n",
       "      <td>-0.0590</td>\n",
       "      <td>0.0325</td>\n",
       "      <td>-2.9296</td>\n",
       "      <td>2017-06-30 13:51:15.847724020</td>\n",
       "    </tr>\n",
       "    <tr>\n",
       "      <th>1</th>\n",
       "      <td>0</td>\n",
       "      <td>0.6722</td>\n",
       "      <td>-1.1233</td>\n",
       "      <td>-0.2344</td>\n",
       "      <td>-0.1757</td>\n",
       "      <td>0.0208</td>\n",
       "      <td>0.1269</td>\n",
       "      <td>2017-06-30 13:51:16.246945023</td>\n",
       "    </tr>\n",
       "    <tr>\n",
       "      <th>2</th>\n",
       "      <td>0</td>\n",
       "      <td>0.4399</td>\n",
       "      <td>-1.4817</td>\n",
       "      <td>0.0722</td>\n",
       "      <td>-0.9105</td>\n",
       "      <td>0.1063</td>\n",
       "      <td>-2.4367</td>\n",
       "      <td>2017-06-30 13:51:16.446233987</td>\n",
       "    </tr>\n",
       "    <tr>\n",
       "      <th>3</th>\n",
       "      <td>0</td>\n",
       "      <td>0.3031</td>\n",
       "      <td>-0.8125</td>\n",
       "      <td>0.0888</td>\n",
       "      <td>0.1199</td>\n",
       "      <td>-0.4099</td>\n",
       "      <td>-2.9336</td>\n",
       "      <td>2017-06-30 13:51:16.646117985</td>\n",
       "    </tr>\n",
       "    <tr>\n",
       "      <th>4</th>\n",
       "      <td>0</td>\n",
       "      <td>0.4814</td>\n",
       "      <td>-0.9312</td>\n",
       "      <td>0.0359</td>\n",
       "      <td>0.0527</td>\n",
       "      <td>0.4379</td>\n",
       "      <td>2.4922</td>\n",
       "      <td>2017-06-30 13:51:16.846738994</td>\n",
       "    </tr>\n",
       "  </tbody>\n",
       "</table>\n",
       "</div>"
      ],
      "text/plain": [
       "   activity  acceleration_x  acceleration_y  acceleration_z  gyro_x  gyro_y  \\\n",
       "0         0          0.2650         -0.7814         -0.0076 -0.0590  0.0325   \n",
       "1         0          0.6722         -1.1233         -0.2344 -0.1757  0.0208   \n",
       "2         0          0.4399         -1.4817          0.0722 -0.9105  0.1063   \n",
       "3         0          0.3031         -0.8125          0.0888  0.1199 -0.4099   \n",
       "4         0          0.4814         -0.9312          0.0359  0.0527  0.4379   \n",
       "\n",
       "   gyro_z                      date_time  \n",
       "0 -2.9296  2017-06-30 13:51:15.847724020  \n",
       "1  0.1269  2017-06-30 13:51:16.246945023  \n",
       "2 -2.4367  2017-06-30 13:51:16.446233987  \n",
       "3 -2.9336  2017-06-30 13:51:16.646117985  \n",
       "4  2.4922  2017-06-30 13:51:16.846738994  "
      ]
     },
     "execution_count": 2,
     "metadata": {},
     "output_type": "execute_result"
    }
   ],
   "source": [
    "df = pd.read_csv('walkrun_clean.csv',index_col=0)\n",
    "df.head()"
   ]
  },
  {
   "cell_type": "code",
   "execution_count": 3,
   "id": "7b43293d",
   "metadata": {},
   "outputs": [
    {
     "data": {
      "text/html": [
       "<div>\n",
       "<style scoped>\n",
       "    .dataframe tbody tr th:only-of-type {\n",
       "        vertical-align: middle;\n",
       "    }\n",
       "\n",
       "    .dataframe tbody tr th {\n",
       "        vertical-align: top;\n",
       "    }\n",
       "\n",
       "    .dataframe thead th {\n",
       "        text-align: right;\n",
       "    }\n",
       "</style>\n",
       "<table border=\"1\" class=\"dataframe\">\n",
       "  <thead>\n",
       "    <tr style=\"text-align: right;\">\n",
       "      <th></th>\n",
       "      <th>activity</th>\n",
       "      <th>acceleration_x</th>\n",
       "      <th>acceleration_y</th>\n",
       "      <th>acceleration_z</th>\n",
       "      <th>gyro_x</th>\n",
       "      <th>gyro_y</th>\n",
       "      <th>gyro_z</th>\n",
       "      <th>date_time</th>\n",
       "    </tr>\n",
       "  </thead>\n",
       "  <tbody>\n",
       "    <tr>\n",
       "      <th>88583</th>\n",
       "      <td>1</td>\n",
       "      <td>-0.3145</td>\n",
       "      <td>-0.5619</td>\n",
       "      <td>0.2554</td>\n",
       "      <td>-1.4393</td>\n",
       "      <td>0.1370</td>\n",
       "      <td>-1.5961</td>\n",
       "      <td>2017-07-17 20:16:02.884990990</td>\n",
       "    </tr>\n",
       "    <tr>\n",
       "      <th>88584</th>\n",
       "      <td>1</td>\n",
       "      <td>0.2041</td>\n",
       "      <td>0.4117</td>\n",
       "      <td>-0.1134</td>\n",
       "      <td>0.8280</td>\n",
       "      <td>0.8089</td>\n",
       "      <td>1.9331</td>\n",
       "      <td>2017-07-17 20:16:03.285188019</td>\n",
       "    </tr>\n",
       "    <tr>\n",
       "      <th>88585</th>\n",
       "      <td>1</td>\n",
       "      <td>-2.9406</td>\n",
       "      <td>0.4090</td>\n",
       "      <td>0.0523</td>\n",
       "      <td>2.2648</td>\n",
       "      <td>0.2342</td>\n",
       "      <td>3.7748</td>\n",
       "      <td>2017-07-17 20:16:03.485148012</td>\n",
       "    </tr>\n",
       "    <tr>\n",
       "      <th>88586</th>\n",
       "      <td>1</td>\n",
       "      <td>-0.0219</td>\n",
       "      <td>-0.5711</td>\n",
       "      <td>0.1658</td>\n",
       "      <td>0.2210</td>\n",
       "      <td>-1.5538</td>\n",
       "      <td>0.6392</td>\n",
       "      <td>2017-07-17 20:16:03.684989988</td>\n",
       "    </tr>\n",
       "    <tr>\n",
       "      <th>88587</th>\n",
       "      <td>1</td>\n",
       "      <td>-2.1825</td>\n",
       "      <td>0.1876</td>\n",
       "      <td>0.0430</td>\n",
       "      <td>-2.2937</td>\n",
       "      <td>-0.6059</td>\n",
       "      <td>-0.6293</td>\n",
       "      <td>2017-07-17 20:16:03.851119750</td>\n",
       "    </tr>\n",
       "  </tbody>\n",
       "</table>\n",
       "</div>"
      ],
      "text/plain": [
       "       activity  acceleration_x  acceleration_y  acceleration_z  gyro_x  \\\n",
       "88583         1         -0.3145         -0.5619          0.2554 -1.4393   \n",
       "88584         1          0.2041          0.4117         -0.1134  0.8280   \n",
       "88585         1         -2.9406          0.4090          0.0523  2.2648   \n",
       "88586         1         -0.0219         -0.5711          0.1658  0.2210   \n",
       "88587         1         -2.1825          0.1876          0.0430 -2.2937   \n",
       "\n",
       "       gyro_y  gyro_z                      date_time  \n",
       "88583  0.1370 -1.5961  2017-07-17 20:16:02.884990990  \n",
       "88584  0.8089  1.9331  2017-07-17 20:16:03.285188019  \n",
       "88585  0.2342  3.7748  2017-07-17 20:16:03.485148012  \n",
       "88586 -1.5538  0.6392  2017-07-17 20:16:03.684989988  \n",
       "88587 -0.6059 -0.6293  2017-07-17 20:16:03.851119750  "
      ]
     },
     "execution_count": 3,
     "metadata": {},
     "output_type": "execute_result"
    }
   ],
   "source": [
    "df.tail()"
   ]
  },
  {
   "cell_type": "code",
   "execution_count": 4,
   "id": "e06b56e7",
   "metadata": {},
   "outputs": [
    {
     "name": "stdout",
     "output_type": "stream",
     "text": [
      "<class 'pandas.core.frame.DataFrame'>\n",
      "Int64Index: 88588 entries, 0 to 88587\n",
      "Data columns (total 8 columns):\n",
      " #   Column          Non-Null Count  Dtype  \n",
      "---  ------          --------------  -----  \n",
      " 0   activity        88588 non-null  int64  \n",
      " 1   acceleration_x  88588 non-null  float64\n",
      " 2   acceleration_y  88588 non-null  float64\n",
      " 3   acceleration_z  88588 non-null  float64\n",
      " 4   gyro_x          88588 non-null  float64\n",
      " 5   gyro_y          88588 non-null  float64\n",
      " 6   gyro_z          88588 non-null  float64\n",
      " 7   date_time       88588 non-null  object \n",
      "dtypes: float64(6), int64(1), object(1)\n",
      "memory usage: 6.1+ MB\n"
     ]
    }
   ],
   "source": [
    "df.info()"
   ]
  },
  {
   "cell_type": "code",
   "execution_count": 5,
   "id": "2e3c431e",
   "metadata": {},
   "outputs": [],
   "source": [
    "df = df.drop([\"date_time\"],axis=1)"
   ]
  },
  {
   "cell_type": "code",
   "execution_count": 6,
   "id": "5819cefe",
   "metadata": {},
   "outputs": [
    {
     "data": {
      "text/html": [
       "<div>\n",
       "<style scoped>\n",
       "    .dataframe tbody tr th:only-of-type {\n",
       "        vertical-align: middle;\n",
       "    }\n",
       "\n",
       "    .dataframe tbody tr th {\n",
       "        vertical-align: top;\n",
       "    }\n",
       "\n",
       "    .dataframe thead th {\n",
       "        text-align: right;\n",
       "    }\n",
       "</style>\n",
       "<table border=\"1\" class=\"dataframe\">\n",
       "  <thead>\n",
       "    <tr style=\"text-align: right;\">\n",
       "      <th></th>\n",
       "      <th>activity</th>\n",
       "      <th>acceleration_x</th>\n",
       "      <th>acceleration_y</th>\n",
       "      <th>acceleration_z</th>\n",
       "      <th>gyro_x</th>\n",
       "      <th>gyro_y</th>\n",
       "      <th>gyro_z</th>\n",
       "    </tr>\n",
       "  </thead>\n",
       "  <tbody>\n",
       "    <tr>\n",
       "      <th>0</th>\n",
       "      <td>0</td>\n",
       "      <td>0.2650</td>\n",
       "      <td>-0.7814</td>\n",
       "      <td>-0.0076</td>\n",
       "      <td>-0.0590</td>\n",
       "      <td>0.0325</td>\n",
       "      <td>-2.9296</td>\n",
       "    </tr>\n",
       "    <tr>\n",
       "      <th>1</th>\n",
       "      <td>0</td>\n",
       "      <td>0.6722</td>\n",
       "      <td>-1.1233</td>\n",
       "      <td>-0.2344</td>\n",
       "      <td>-0.1757</td>\n",
       "      <td>0.0208</td>\n",
       "      <td>0.1269</td>\n",
       "    </tr>\n",
       "    <tr>\n",
       "      <th>2</th>\n",
       "      <td>0</td>\n",
       "      <td>0.4399</td>\n",
       "      <td>-1.4817</td>\n",
       "      <td>0.0722</td>\n",
       "      <td>-0.9105</td>\n",
       "      <td>0.1063</td>\n",
       "      <td>-2.4367</td>\n",
       "    </tr>\n",
       "    <tr>\n",
       "      <th>3</th>\n",
       "      <td>0</td>\n",
       "      <td>0.3031</td>\n",
       "      <td>-0.8125</td>\n",
       "      <td>0.0888</td>\n",
       "      <td>0.1199</td>\n",
       "      <td>-0.4099</td>\n",
       "      <td>-2.9336</td>\n",
       "    </tr>\n",
       "    <tr>\n",
       "      <th>4</th>\n",
       "      <td>0</td>\n",
       "      <td>0.4814</td>\n",
       "      <td>-0.9312</td>\n",
       "      <td>0.0359</td>\n",
       "      <td>0.0527</td>\n",
       "      <td>0.4379</td>\n",
       "      <td>2.4922</td>\n",
       "    </tr>\n",
       "  </tbody>\n",
       "</table>\n",
       "</div>"
      ],
      "text/plain": [
       "   activity  acceleration_x  acceleration_y  acceleration_z  gyro_x  gyro_y  \\\n",
       "0         0          0.2650         -0.7814         -0.0076 -0.0590  0.0325   \n",
       "1         0          0.6722         -1.1233         -0.2344 -0.1757  0.0208   \n",
       "2         0          0.4399         -1.4817          0.0722 -0.9105  0.1063   \n",
       "3         0          0.3031         -0.8125          0.0888  0.1199 -0.4099   \n",
       "4         0          0.4814         -0.9312          0.0359  0.0527  0.4379   \n",
       "\n",
       "   gyro_z  \n",
       "0 -2.9296  \n",
       "1  0.1269  \n",
       "2 -2.4367  \n",
       "3 -2.9336  \n",
       "4  2.4922  "
      ]
     },
     "execution_count": 6,
     "metadata": {},
     "output_type": "execute_result"
    }
   ],
   "source": [
    "df.head()"
   ]
  },
  {
   "cell_type": "code",
   "execution_count": 7,
   "id": "59fe1afb",
   "metadata": {},
   "outputs": [
    {
     "name": "stdout",
     "output_type": "stream",
     "text": [
      "<class 'pandas.core.frame.DataFrame'>\n",
      "Int64Index: 88588 entries, 0 to 88587\n",
      "Data columns (total 7 columns):\n",
      " #   Column          Non-Null Count  Dtype  \n",
      "---  ------          --------------  -----  \n",
      " 0   activity        88588 non-null  int64  \n",
      " 1   acceleration_x  88588 non-null  float64\n",
      " 2   acceleration_y  88588 non-null  float64\n",
      " 3   acceleration_z  88588 non-null  float64\n",
      " 4   gyro_x          88588 non-null  float64\n",
      " 5   gyro_y          88588 non-null  float64\n",
      " 6   gyro_z          88588 non-null  float64\n",
      "dtypes: float64(6), int64(1)\n",
      "memory usage: 5.4 MB\n"
     ]
    }
   ],
   "source": [
    "df.info()"
   ]
  },
  {
   "cell_type": "code",
   "execution_count": 8,
   "id": "223d806f",
   "metadata": {},
   "outputs": [
    {
     "data": {
      "text/plain": [
       "[<matplotlib.lines.Line2D at 0x17ecb6f0388>]"
      ]
     },
     "execution_count": 8,
     "metadata": {},
     "output_type": "execute_result"
    },
    {
     "data": {
      "image/png": "[encoded data removed]",
      "text/plain": [
       "<Figure size 432x288 with 1 Axes>"
      ]
     },
     "metadata": {
      "needs_background": "light"
     },
     "output_type": "display_data"
    }
   ],
   "source": [
    "import matplotlib.pyplot as plt\n",
    "plt.plot(df.activity)"
   ]
  },
  {
   "cell_type": "code",
   "execution_count": 9,
   "id": "b769b294",
   "metadata": {},
   "outputs": [
    {
     "data": {
      "text/plain": [
       "(88588, 7)"
      ]
     },
     "execution_count": 9,
     "metadata": {},
     "output_type": "execute_result"
    }
   ],
   "source": [
    "df.shape"
   ]
  },
  {
   "cell_type": "code",
   "execution_count": 10,
   "id": "3f60fed7",
   "metadata": {},
   "outputs": [
    {
     "data": {
      "text/plain": [
       "79729.2"
      ]
     },
     "execution_count": 10,
     "metadata": {},
     "output_type": "execute_result"
    }
   ],
   "source": [
    "88588*0.9"
   ]
  },
  {
   "cell_type": "markdown",
   "id": "dcec9cee",
   "metadata": {},
   "source": [
    "# since we are dealing with sequential models, random splitting doesnt work\n",
    "\n",
    "# so we need to time based splitting for train and test"
   ]
  },
  {
   "cell_type": "code",
   "execution_count": 11,
   "id": "efa0a3eb",
   "metadata": {},
   "outputs": [],
   "source": [
    "train_data = df[:79720]\n",
    "test_data = df[79720:]"
   ]
  },
  {
   "cell_type": "code",
   "execution_count": 12,
   "id": "1b435bef",
   "metadata": {},
   "outputs": [
    {
     "data": {
      "text/html": [
       "<div>\n",
       "<style scoped>\n",
       "    .dataframe tbody tr th:only-of-type {\n",
       "        vertical-align: middle;\n",
       "    }\n",
       "\n",
       "    .dataframe tbody tr th {\n",
       "        vertical-align: top;\n",
       "    }\n",
       "\n",
       "    .dataframe thead th {\n",
       "        text-align: right;\n",
       "    }\n",
       "</style>\n",
       "<table border=\"1\" class=\"dataframe\">\n",
       "  <thead>\n",
       "    <tr style=\"text-align: right;\">\n",
       "      <th></th>\n",
       "      <th>activity</th>\n",
       "      <th>acceleration_x</th>\n",
       "      <th>acceleration_y</th>\n",
       "      <th>acceleration_z</th>\n",
       "      <th>gyro_x</th>\n",
       "      <th>gyro_y</th>\n",
       "      <th>gyro_z</th>\n",
       "    </tr>\n",
       "  </thead>\n",
       "  <tbody>\n",
       "    <tr>\n",
       "      <th>0</th>\n",
       "      <td>0</td>\n",
       "      <td>0.2650</td>\n",
       "      <td>-0.7814</td>\n",
       "      <td>-0.0076</td>\n",
       "      <td>-0.0590</td>\n",
       "      <td>0.0325</td>\n",
       "      <td>-2.9296</td>\n",
       "    </tr>\n",
       "    <tr>\n",
       "      <th>1</th>\n",
       "      <td>0</td>\n",
       "      <td>0.6722</td>\n",
       "      <td>-1.1233</td>\n",
       "      <td>-0.2344</td>\n",
       "      <td>-0.1757</td>\n",
       "      <td>0.0208</td>\n",
       "      <td>0.1269</td>\n",
       "    </tr>\n",
       "    <tr>\n",
       "      <th>2</th>\n",
       "      <td>0</td>\n",
       "      <td>0.4399</td>\n",
       "      <td>-1.4817</td>\n",
       "      <td>0.0722</td>\n",
       "      <td>-0.9105</td>\n",
       "      <td>0.1063</td>\n",
       "      <td>-2.4367</td>\n",
       "    </tr>\n",
       "    <tr>\n",
       "      <th>3</th>\n",
       "      <td>0</td>\n",
       "      <td>0.3031</td>\n",
       "      <td>-0.8125</td>\n",
       "      <td>0.0888</td>\n",
       "      <td>0.1199</td>\n",
       "      <td>-0.4099</td>\n",
       "      <td>-2.9336</td>\n",
       "    </tr>\n",
       "    <tr>\n",
       "      <th>4</th>\n",
       "      <td>0</td>\n",
       "      <td>0.4814</td>\n",
       "      <td>-0.9312</td>\n",
       "      <td>0.0359</td>\n",
       "      <td>0.0527</td>\n",
       "      <td>0.4379</td>\n",
       "      <td>2.4922</td>\n",
       "    </tr>\n",
       "  </tbody>\n",
       "</table>\n",
       "</div>"
      ],
      "text/plain": [
       "   activity  acceleration_x  acceleration_y  acceleration_z  gyro_x  gyro_y  \\\n",
       "0         0          0.2650         -0.7814         -0.0076 -0.0590  0.0325   \n",
       "1         0          0.6722         -1.1233         -0.2344 -0.1757  0.0208   \n",
       "2         0          0.4399         -1.4817          0.0722 -0.9105  0.1063   \n",
       "3         0          0.3031         -0.8125          0.0888  0.1199 -0.4099   \n",
       "4         0          0.4814         -0.9312          0.0359  0.0527  0.4379   \n",
       "\n",
       "   gyro_z  \n",
       "0 -2.9296  \n",
       "1  0.1269  \n",
       "2 -2.4367  \n",
       "3 -2.9336  \n",
       "4  2.4922  "
      ]
     },
     "execution_count": 12,
     "metadata": {},
     "output_type": "execute_result"
    }
   ],
   "source": [
    "train_data.head()"
   ]
  },
  {
   "cell_type": "code",
   "execution_count": 13,
   "id": "257b63dc",
   "metadata": {},
   "outputs": [
    {
     "data": {
      "text/plain": [
       "(79720, 7)"
      ]
     },
     "execution_count": 13,
     "metadata": {},
     "output_type": "execute_result"
    }
   ],
   "source": [
    "train_data.shape"
   ]
  },
  {
   "cell_type": "code",
   "execution_count": 14,
   "id": "93659234",
   "metadata": {},
   "outputs": [
    {
     "data": {
      "text/plain": [
       "(8868, 7)"
      ]
     },
     "execution_count": 14,
     "metadata": {},
     "output_type": "execute_result"
    }
   ],
   "source": [
    "test_data.shape"
   ]
  },
  {
   "cell_type": "markdown",
   "id": "c9c02e1b",
   "metadata": {},
   "source": [
    "### Here we are trying to use past 50 data to predict the new data i.e look back value of 50.\n",
    "SO, THE MODEL NEEDS PAST 50 DATA TO PREDICT THE PRESENT OR FUTURE ACTIVITY.\n",
    "\n",
    "# SO WE NEED TO RESHAPE THE DATA ACCORDING (50,6)"
   ]
  },
  {
   "cell_type": "code",
   "execution_count": 15,
   "id": "d0add491",
   "metadata": {},
   "outputs": [],
   "source": [
    "#CREATING sequencial data for lstms\n",
    "\n",
    "X_train = []\n",
    "y_train = []\n",
    "\n",
    "for i in range(50, 79720):\n",
    "    X_train.append(train_data.iloc[i-50:i,1:])\n",
    "    y_train.append(train_data.activity[i])"
   ]
  },
  {
   "cell_type": "code",
   "execution_count": 16,
   "id": "32243ff9",
   "metadata": {},
   "outputs": [],
   "source": [
    "import numpy as np\n",
    "X_train = np.array(X_train)"
   ]
  },
  {
   "cell_type": "code",
   "execution_count": 17,
   "id": "76324bff",
   "metadata": {},
   "outputs": [
    {
     "data": {
      "text/plain": [
       "(79670, 50, 6)"
      ]
     },
     "execution_count": 17,
     "metadata": {},
     "output_type": "execute_result"
    }
   ],
   "source": [
    "X_train.shape"
   ]
  },
  {
   "cell_type": "code",
   "execution_count": 18,
   "id": "bfcd2566",
   "metadata": {},
   "outputs": [],
   "source": [
    "X_train = X_train.reshape(X_train.shape[0], 50, 6)"
   ]
  },
  {
   "cell_type": "code",
   "execution_count": 19,
   "id": "68d08b32",
   "metadata": {},
   "outputs": [
    {
     "data": {
      "text/plain": [
       "(79670, 50, 6)"
      ]
     },
     "execution_count": 19,
     "metadata": {},
     "output_type": "execute_result"
    }
   ],
   "source": [
    "X_train.shape"
   ]
  },
  {
   "cell_type": "code",
   "execution_count": 20,
   "id": "7d026f01",
   "metadata": {},
   "outputs": [],
   "source": [
    "y_train = np.array(y_train)"
   ]
  },
  {
   "cell_type": "code",
   "execution_count": 21,
   "id": "ac61da09",
   "metadata": {},
   "outputs": [
    {
     "data": {
      "text/plain": [
       "(79670,)"
      ]
     },
     "execution_count": 21,
     "metadata": {},
     "output_type": "execute_result"
    }
   ],
   "source": [
    "y_train.shape"
   ]
  },
  {
   "cell_type": "markdown",
   "id": "b00fbf1c",
   "metadata": {},
   "source": [
    "# Plotting test and train data classes to avoid overfitting towards one class"
   ]
  },
  {
   "cell_type": "code",
   "execution_count": 32,
   "id": "7a11a8c2",
   "metadata": {},
   "outputs": [],
   "source": [
    "import matplotlib.pyplot as plt"
   ]
  },
  {
   "cell_type": "code",
   "execution_count": 34,
   "id": "71d702a1",
   "metadata": {},
   "outputs": [
    {
     "data": {
      "text/plain": [
       "<matplotlib.legend.Legend at 0x17ed624dd08>"
      ]
     },
     "execution_count": 34,
     "metadata": {},
     "output_type": "execute_result"
    },
    {
     "data": {
      "image/png": "[encoded data removed]",
      "text/plain": [
       "<Figure size 432x288 with 1 Axes>"
      ]
     },
     "metadata": {
      "needs_background": "light"
     },
     "output_type": "display_data"
    }
   ],
   "source": [
    "plt.plot(y_train)\n",
    "plt.legend([\"Training Data\"])"
   ]
  },
  {
   "cell_type": "code",
   "execution_count": 38,
   "id": "64a8fcdf",
   "metadata": {},
   "outputs": [
    {
     "data": {
      "text/plain": [
       "<matplotlib.legend.Legend at 0x17ed7ff6a08>"
      ]
     },
     "execution_count": 38,
     "metadata": {},
     "output_type": "execute_result"
    },
    {
     "data": {
      "image/png": "[encoded data removed]",
      "text/plain": [
       "<Figure size 432x288 with 1 Axes>"
      ]
     },
     "metadata": {
      "needs_background": "light"
     },
     "output_type": "display_data"
    }
   ],
   "source": [
    "plt.plot(test_data.activity)\n",
    "plt.legend([\"Testing Data\"])"
   ]
  },
  {
   "cell_type": "code",
   "execution_count": 40,
   "id": "c8ed5961",
   "metadata": {},
   "outputs": [],
   "source": [
    "temp = pd.DataFrame(y_train)"
   ]
  },
  {
   "cell_type": "code",
   "execution_count": 42,
   "id": "e748adf0",
   "metadata": {},
   "outputs": [
    {
     "data": {
      "text/plain": [
       "0    42116\n",
       "1    37554\n",
       "dtype: int64"
      ]
     },
     "execution_count": 42,
     "metadata": {},
     "output_type": "execute_result"
    }
   ],
   "source": [
    "temp.value_counts()"
   ]
  },
  {
   "cell_type": "markdown",
   "id": "bb549d07",
   "metadata": {},
   "source": [
    "In training data Walk Class and Run Class are not heavily imbalanced so, we can use this train data for model"
   ]
  },
  {
   "cell_type": "markdown",
   "id": "c7c1a649",
   "metadata": {},
   "source": [
    "### now the X_data is in shape of (79670,50,6)\n",
    "\n",
    "* so there are total of 79670 datapoints with shape (50,6)\n",
    "\n",
    "            * where 6 is the number of features used\n",
    "\n",
    "            * where 50 is the number of past data needed"
   ]
  },
  {
   "cell_type": "markdown",
   "id": "8e094b3d",
   "metadata": {},
   "source": [
    "### Similarly for Y_data\n",
    "\n",
    "* FOR EVERY 50 PAST VALUES OF X THERE SHOULD BE A Y VALUE"
   ]
  },
  {
   "cell_type": "code",
   "execution_count": 22,
   "id": "3a920f23",
   "metadata": {},
   "outputs": [],
   "source": [
    "import tensorflow as tf\n",
    "from tensorflow.keras.models import Sequential\n",
    "from tensorflow.keras.layers import LSTM, Dropout, Dense"
   ]
  },
  {
   "cell_type": "code",
   "execution_count": 23,
   "id": "ac601b15",
   "metadata": {},
   "outputs": [
    {
     "name": "stdout",
     "output_type": "stream",
     "text": [
      "Model: \"sequential_1\"\n",
      "_________________________________________________________________\n",
      "Layer (type)                 Output Shape              Param #   \n",
      "=================================================================\n",
      "lstm (LSTM)                  (None, 32)                4992      \n",
      "_________________________________________________________________\n",
      "dropout (Dropout)            (None, 32)                0         \n",
      "_________________________________________________________________\n",
      "dense (Dense)                (None, 1)                 33        \n",
      "=================================================================\n",
      "Total params: 5,025\n",
      "Trainable params: 5,025\n",
      "Non-trainable params: 0\n",
      "_________________________________________________________________\n"
     ]
    }
   ],
   "source": [
    "model = Sequential()\n",
    "# Initializing the sequential model\n",
    "model = Sequential()\n",
    "# Configuring the parameters\n",
    "model.add(LSTM(32, input_shape=(50, 6)))\n",
    "# Adding a dropout layer\n",
    "model.add(Dropout(0.5))\n",
    "# Adding a dense output layer with sigmoid activation\n",
    "model.add(Dense(1, activation='sigmoid'))\n",
    "model.summary()"
   ]
  },
  {
   "cell_type": "code",
   "execution_count": 24,
   "id": "b0a56cd8",
   "metadata": {},
   "outputs": [],
   "source": [
    "model.compile(\n",
    "    optimizer = 'adam',\n",
    "    loss = 'mean_squared_error'\n",
    ")"
   ]
  },
  {
   "cell_type": "code",
   "execution_count": 25,
   "id": "8d811050",
   "metadata": {
    "scrolled": true
   },
   "outputs": [
    {
     "name": "stdout",
     "output_type": "stream",
     "text": [
      "Model: \"sequential_1\"\n",
      "_________________________________________________________________\n",
      "Layer (type)                 Output Shape              Param #   \n",
      "=================================================================\n",
      "lstm (LSTM)                  (None, 32)                4992      \n",
      "_________________________________________________________________\n",
      "dropout (Dropout)            (None, 32)                0         \n",
      "_________________________________________________________________\n",
      "dense (Dense)                (None, 1)                 33        \n",
      "=================================================================\n",
      "Total params: 5,025\n",
      "Trainable params: 5,025\n",
      "Non-trainable params: 0\n",
      "_________________________________________________________________\n"
     ]
    }
   ],
   "source": [
    "model.summary()"
   ]
  },
  {
   "cell_type": "code",
   "execution_count": 26,
   "id": "ca789987",
   "metadata": {
    "scrolled": true
   },
   "outputs": [
    {
     "name": "stdout",
     "output_type": "stream",
     "text": [
      "Epoch 1/30\n",
      "2490/2490 [==============================] - 24s 10ms/step - loss: 0.0056\n",
      "Epoch 2/30\n",
      "2490/2490 [==============================] - 29s 12ms/step - loss: 0.0012 0s - loss: 0\n",
      "Epoch 3/30\n",
      "2490/2490 [==============================] - 28s 11ms/step - loss: 9.8943e-04\n",
      "Epoch 4/30\n",
      "2490/2490 [==============================] - 25s 10ms/step - loss: 8.1759e-04\n",
      "Epoch 5/30\n",
      "2490/2490 [==============================] - 26s 10ms/step - loss: 7.7695e-04\n",
      "Epoch 6/30\n",
      "2490/2490 [==============================] - 26s 11ms/step - loss: 7.2278e-04\n",
      "Epoch 7/30\n",
      "2490/2490 [==============================] - 27s 11ms/step - loss: 6.5558e-04\n",
      "Epoch 8/30\n",
      "2490/2490 [==============================] - 27s 11ms/step - loss: 5.8734e-04\n",
      "Epoch 9/30\n",
      "2490/2490 [==============================] - 30s 12ms/step - loss: 5.4942e-04\n",
      "Epoch 10/30\n",
      "2490/2490 [==============================] - 29s 12ms/step - loss: 5.5690e-04\n",
      "Epoch 11/30\n",
      "2490/2490 [==============================] - 26s 10ms/step - loss: 4.8960e-04\n",
      "Epoch 12/30\n",
      "2490/2490 [==============================] - 28s 11ms/step - loss: 5.1153e-04\n",
      "Epoch 13/30\n",
      "2490/2490 [==============================] - 26s 11ms/step - loss: 4.9653e-04\n",
      "Epoch 14/30\n",
      "2490/2490 [==============================] - 27s 11ms/step - loss: 4.5342e-04\n",
      "Epoch 15/30\n",
      "2490/2490 [==============================] - 26s 11ms/step - loss: 4.5332e-04\n",
      "Epoch 16/30\n",
      "2490/2490 [==============================] - 25s 10ms/step - loss: 4.3427e-04\n",
      "Epoch 17/30\n",
      "2490/2490 [==============================] - 24s 10ms/step - loss: 4.3220e-04\n",
      "Epoch 18/30\n",
      "2490/2490 [==============================] - 24s 10ms/step - loss: 4.0371e-04\n",
      "Epoch 19/30\n",
      "2490/2490 [==============================] - 28s 11ms/step - loss: 3.8953e-04\n",
      "Epoch 20/30\n",
      "2490/2490 [==============================] - 25s 10ms/step - loss: 4.2578e-04\n",
      "Epoch 21/30\n",
      "2490/2490 [==============================] - 25s 10ms/step - loss: 3.8425e-04\n",
      "Epoch 22/30\n",
      "2490/2490 [==============================] - 26s 10ms/step - loss: 3.8182e-04\n",
      "Epoch 23/30\n",
      "2490/2490 [==============================] - 27s 11ms/step - loss: 3.6544e-04\n",
      "Epoch 24/30\n",
      "2490/2490 [==============================] - 25s 10ms/step - loss: 3.6089e-04\n",
      "Epoch 25/30\n",
      "2490/2490 [==============================] - 25s 10ms/step - loss: 3.7878e-04\n",
      "Epoch 26/30\n",
      "2490/2490 [==============================] - 26s 11ms/step - loss: 3.7463e-04\n",
      "Epoch 27/30\n",
      "2490/2490 [==============================] - 27s 11ms/step - loss: 3.5851e-04\n",
      "Epoch 28/30\n",
      "2490/2490 [==============================] - 26s 10ms/step - loss: 3.8426e-04\n",
      "Epoch 29/30\n",
      "2490/2490 [==============================] - 27s 11ms/step - loss: 3.7019e-04\n",
      "Epoch 30/30\n",
      "2490/2490 [==============================] - 25s 10ms/step - loss: 3.7942e-04\n"
     ]
    },
    {
     "data": {
      "text/plain": [
       "<tensorflow.python.keras.callbacks.History at 0x17ed1d3e048>"
      ]
     },
     "execution_count": 26,
     "metadata": {},
     "output_type": "execute_result"
    }
   ],
   "source": [
    "# Training the model\n",
    "model.fit(X_train,\n",
    "          y_train,\n",
    "          batch_size=32,\n",
    "          epochs=30)"
   ]
  },
  {
   "cell_type": "code",
   "execution_count": 29,
   "id": "6440d33c",
   "metadata": {},
   "outputs": [
    {
     "data": {
      "text/plain": [
       "[0.005603845696896315,\n",
       " 0.0012443173909559846,\n",
       " 0.0009894291870296001,\n",
       " 0.0008175931870937347,\n",
       " 0.0007769515505060554,\n",
       " 0.0007227808237075806,\n",
       " 0.0006555797881446779,\n",
       " 0.0005873435875400901,\n",
       " 0.0005494169308803976,\n",
       " 0.0005568968481384218,\n",
       " 0.000489598314743489,\n",
       " 0.0005115288076922297,\n",
       " 0.0004965263651683927,\n",
       " 0.00045341599616222084,\n",
       " 0.0004533165483735502,\n",
       " 0.0004342676838859916,\n",
       " 0.0004321956366766244,\n",
       " 0.00040371212526224554,\n",
       " 0.00038953102193772793,\n",
       " 0.0004257773980498314,\n",
       " 0.00038424579543061554,\n",
       " 0.00038181678974069655,\n",
       " 0.00036544163594953716,\n",
       " 0.0003608896804507822,\n",
       " 0.00037877517752349377,\n",
       " 0.0003746332076843828,\n",
       " 0.0003585073573049158,\n",
       " 0.00038425883394666016,\n",
       " 0.0003701870155055076,\n",
       " 0.0003794220101553947]"
      ]
     },
     "execution_count": 29,
     "metadata": {},
     "output_type": "execute_result"
    }
   ],
   "source": [
    "model.history.history[\"loss\"]"
   ]
  },
  {
   "cell_type": "markdown",
   "id": "c79e47e4",
   "metadata": {},
   "source": [
    "# Plotting the accuracy"
   ]
  },
  {
   "cell_type": "code",
   "execution_count": 43,
   "id": "c3f5bea4",
   "metadata": {},
   "outputs": [
    {
     "data": {
      "text/plain": [
       "Text(0.5, 1.0, 'LOSS PLOT')"
      ]
     },
     "execution_count": 43,
     "metadata": {},
     "output_type": "execute_result"
    },
    {
     "data": {
      "image/png": "[encoded data removed]",
      "text/plain": [
       "<Figure size 432x288 with 1 Axes>"
      ]
     },
     "metadata": {
      "needs_background": "light"
     },
     "output_type": "display_data"
    }
   ],
   "source": [
    "plt.plot(model.history.history[\"loss\"])\n",
    "plt.title(\"LOSS PLOT\")"
   ]
  },
  {
   "cell_type": "markdown",
   "id": "3abeb183",
   "metadata": {},
   "source": [
    "# Testing the model for predictions"
   ]
  },
  {
   "cell_type": "markdown",
   "id": "37da7366",
   "metadata": {},
   "source": [
    "###  since the Testing data should be same as the shape of training data\n",
    "\n",
    "we need to reshape the data similarly"
   ]
  },
  {
   "cell_type": "code",
   "execution_count": 44,
   "id": "0384d7b6",
   "metadata": {},
   "outputs": [
    {
     "data": {
      "text/plain": [
       "(8868, 7)"
      ]
     },
     "execution_count": 44,
     "metadata": {},
     "output_type": "execute_result"
    }
   ],
   "source": [
    "test_data.shape"
   ]
  },
  {
   "cell_type": "code",
   "execution_count": 45,
   "id": "bfd11d73",
   "metadata": {
    "scrolled": true
   },
   "outputs": [
    {
     "data": {
      "text/html": [
       "<div>\n",
       "<style scoped>\n",
       "    .dataframe tbody tr th:only-of-type {\n",
       "        vertical-align: middle;\n",
       "    }\n",
       "\n",
       "    .dataframe tbody tr th {\n",
       "        vertical-align: top;\n",
       "    }\n",
       "\n",
       "    .dataframe thead th {\n",
       "        text-align: right;\n",
       "    }\n",
       "</style>\n",
       "<table border=\"1\" class=\"dataframe\">\n",
       "  <thead>\n",
       "    <tr style=\"text-align: right;\">\n",
       "      <th></th>\n",
       "      <th>activity</th>\n",
       "      <th>acceleration_x</th>\n",
       "      <th>acceleration_y</th>\n",
       "      <th>acceleration_z</th>\n",
       "      <th>gyro_x</th>\n",
       "      <th>gyro_y</th>\n",
       "      <th>gyro_z</th>\n",
       "    </tr>\n",
       "  </thead>\n",
       "  <tbody>\n",
       "    <tr>\n",
       "      <th>79670</th>\n",
       "      <td>0</td>\n",
       "      <td>0.3605</td>\n",
       "      <td>-1.3903</td>\n",
       "      <td>-0.0751</td>\n",
       "      <td>-1.2553</td>\n",
       "      <td>-1.1000</td>\n",
       "      <td>-1.4261</td>\n",
       "    </tr>\n",
       "    <tr>\n",
       "      <th>79671</th>\n",
       "      <td>0</td>\n",
       "      <td>0.4173</td>\n",
       "      <td>-1.0257</td>\n",
       "      <td>-0.0496</td>\n",
       "      <td>0.2283</td>\n",
       "      <td>0.8497</td>\n",
       "      <td>1.7944</td>\n",
       "    </tr>\n",
       "    <tr>\n",
       "      <th>79672</th>\n",
       "      <td>0</td>\n",
       "      <td>0.1392</td>\n",
       "      <td>-0.7511</td>\n",
       "      <td>-0.0582</td>\n",
       "      <td>1.1432</td>\n",
       "      <td>-0.2227</td>\n",
       "      <td>1.8020</td>\n",
       "    </tr>\n",
       "    <tr>\n",
       "      <th>79673</th>\n",
       "      <td>0</td>\n",
       "      <td>0.4475</td>\n",
       "      <td>-1.0380</td>\n",
       "      <td>-0.2802</td>\n",
       "      <td>0.4798</td>\n",
       "      <td>0.6652</td>\n",
       "      <td>1.3596</td>\n",
       "    </tr>\n",
       "    <tr>\n",
       "      <th>79674</th>\n",
       "      <td>0</td>\n",
       "      <td>0.5020</td>\n",
       "      <td>-1.0712</td>\n",
       "      <td>-0.2774</td>\n",
       "      <td>-0.4661</td>\n",
       "      <td>-1.1742</td>\n",
       "      <td>-1.6174</td>\n",
       "    </tr>\n",
       "    <tr>\n",
       "      <th>79675</th>\n",
       "      <td>0</td>\n",
       "      <td>0.3608</td>\n",
       "      <td>-0.8310</td>\n",
       "      <td>-0.0593</td>\n",
       "      <td>-0.4919</td>\n",
       "      <td>-0.7525</td>\n",
       "      <td>-2.9269</td>\n",
       "    </tr>\n",
       "    <tr>\n",
       "      <th>79676</th>\n",
       "      <td>0</td>\n",
       "      <td>0.3005</td>\n",
       "      <td>-1.0578</td>\n",
       "      <td>0.0464</td>\n",
       "      <td>-0.4411</td>\n",
       "      <td>0.8135</td>\n",
       "      <td>0.0454</td>\n",
       "    </tr>\n",
       "    <tr>\n",
       "      <th>79677</th>\n",
       "      <td>0</td>\n",
       "      <td>0.4035</td>\n",
       "      <td>-1.0898</td>\n",
       "      <td>-0.1158</td>\n",
       "      <td>0.8011</td>\n",
       "      <td>-1.0263</td>\n",
       "      <td>2.9432</td>\n",
       "    </tr>\n",
       "    <tr>\n",
       "      <th>79678</th>\n",
       "      <td>0</td>\n",
       "      <td>0.3770</td>\n",
       "      <td>-0.8138</td>\n",
       "      <td>-0.1346</td>\n",
       "      <td>0.5468</td>\n",
       "      <td>0.4809</td>\n",
       "      <td>1.0880</td>\n",
       "    </tr>\n",
       "    <tr>\n",
       "      <th>79679</th>\n",
       "      <td>0</td>\n",
       "      <td>0.6059</td>\n",
       "      <td>-1.3421</td>\n",
       "      <td>-0.3215</td>\n",
       "      <td>0.2492</td>\n",
       "      <td>-0.9078</td>\n",
       "      <td>0.3992</td>\n",
       "    </tr>\n",
       "    <tr>\n",
       "      <th>79680</th>\n",
       "      <td>0</td>\n",
       "      <td>0.1684</td>\n",
       "      <td>-1.0287</td>\n",
       "      <td>-0.0641</td>\n",
       "      <td>-1.8444</td>\n",
       "      <td>0.9217</td>\n",
       "      <td>-3.0222</td>\n",
       "    </tr>\n",
       "    <tr>\n",
       "      <th>79681</th>\n",
       "      <td>0</td>\n",
       "      <td>0.2962</td>\n",
       "      <td>-0.9538</td>\n",
       "      <td>0.0706</td>\n",
       "      <td>-0.7240</td>\n",
       "      <td>-0.5918</td>\n",
       "      <td>-1.5104</td>\n",
       "    </tr>\n",
       "    <tr>\n",
       "      <th>79682</th>\n",
       "      <td>0</td>\n",
       "      <td>0.5139</td>\n",
       "      <td>-1.2168</td>\n",
       "      <td>-0.1722</td>\n",
       "      <td>1.2265</td>\n",
       "      <td>-1.1514</td>\n",
       "      <td>2.9236</td>\n",
       "    </tr>\n",
       "    <tr>\n",
       "      <th>79683</th>\n",
       "      <td>0</td>\n",
       "      <td>0.1687</td>\n",
       "      <td>-0.7923</td>\n",
       "      <td>-0.1373</td>\n",
       "      <td>0.9665</td>\n",
       "      <td>0.9371</td>\n",
       "      <td>1.1714</td>\n",
       "    </tr>\n",
       "    <tr>\n",
       "      <th>79684</th>\n",
       "      <td>0</td>\n",
       "      <td>0.5182</td>\n",
       "      <td>-1.2145</td>\n",
       "      <td>-0.3087</td>\n",
       "      <td>0.2421</td>\n",
       "      <td>0.1054</td>\n",
       "      <td>1.2071</td>\n",
       "    </tr>\n",
       "    <tr>\n",
       "      <th>79685</th>\n",
       "      <td>0</td>\n",
       "      <td>0.1795</td>\n",
       "      <td>-1.2212</td>\n",
       "      <td>0.0061</td>\n",
       "      <td>-1.7480</td>\n",
       "      <td>-0.2264</td>\n",
       "      <td>-2.7085</td>\n",
       "    </tr>\n",
       "    <tr>\n",
       "      <th>79686</th>\n",
       "      <td>0</td>\n",
       "      <td>0.3291</td>\n",
       "      <td>-0.9332</td>\n",
       "      <td>0.0243</td>\n",
       "      <td>-0.7566</td>\n",
       "      <td>-0.4125</td>\n",
       "      <td>-3.4009</td>\n",
       "    </tr>\n",
       "    <tr>\n",
       "      <th>79687</th>\n",
       "      <td>0</td>\n",
       "      <td>0.2721</td>\n",
       "      <td>-0.9806</td>\n",
       "      <td>-0.1456</td>\n",
       "      <td>-0.0573</td>\n",
       "      <td>0.7323</td>\n",
       "      <td>2.4692</td>\n",
       "    </tr>\n",
       "    <tr>\n",
       "      <th>79688</th>\n",
       "      <td>0</td>\n",
       "      <td>0.8394</td>\n",
       "      <td>-0.2975</td>\n",
       "      <td>-0.0697</td>\n",
       "      <td>-0.5194</td>\n",
       "      <td>0.7950</td>\n",
       "      <td>-0.3669</td>\n",
       "    </tr>\n",
       "    <tr>\n",
       "      <th>79689</th>\n",
       "      <td>0</td>\n",
       "      <td>0.7814</td>\n",
       "      <td>-0.5372</td>\n",
       "      <td>0.1072</td>\n",
       "      <td>0.5543</td>\n",
       "      <td>-1.0536</td>\n",
       "      <td>1.0884</td>\n",
       "    </tr>\n",
       "    <tr>\n",
       "      <th>79690</th>\n",
       "      <td>0</td>\n",
       "      <td>0.6624</td>\n",
       "      <td>-1.1127</td>\n",
       "      <td>-0.2381</td>\n",
       "      <td>0.8819</td>\n",
       "      <td>-2.6670</td>\n",
       "      <td>0.9468</td>\n",
       "    </tr>\n",
       "    <tr>\n",
       "      <th>79691</th>\n",
       "      <td>0</td>\n",
       "      <td>0.3057</td>\n",
       "      <td>-0.5738</td>\n",
       "      <td>-0.1380</td>\n",
       "      <td>-0.1289</td>\n",
       "      <td>-0.0526</td>\n",
       "      <td>0.5515</td>\n",
       "    </tr>\n",
       "    <tr>\n",
       "      <th>79692</th>\n",
       "      <td>0</td>\n",
       "      <td>0.5465</td>\n",
       "      <td>-1.3666</td>\n",
       "      <td>-0.0885</td>\n",
       "      <td>-0.5378</td>\n",
       "      <td>1.4820</td>\n",
       "      <td>1.3191</td>\n",
       "    </tr>\n",
       "    <tr>\n",
       "      <th>79693</th>\n",
       "      <td>0</td>\n",
       "      <td>0.1465</td>\n",
       "      <td>-0.9995</td>\n",
       "      <td>-0.0234</td>\n",
       "      <td>-0.1113</td>\n",
       "      <td>0.4870</td>\n",
       "      <td>-0.7412</td>\n",
       "    </tr>\n",
       "    <tr>\n",
       "      <th>79694</th>\n",
       "      <td>0</td>\n",
       "      <td>0.2323</td>\n",
       "      <td>-0.7020</td>\n",
       "      <td>-0.1138</td>\n",
       "      <td>0.1779</td>\n",
       "      <td>-0.1698</td>\n",
       "      <td>0.2338</td>\n",
       "    </tr>\n",
       "    <tr>\n",
       "      <th>79695</th>\n",
       "      <td>0</td>\n",
       "      <td>0.4992</td>\n",
       "      <td>-1.3210</td>\n",
       "      <td>-0.1365</td>\n",
       "      <td>0.5616</td>\n",
       "      <td>-1.2734</td>\n",
       "      <td>1.3148</td>\n",
       "    </tr>\n",
       "    <tr>\n",
       "      <th>79696</th>\n",
       "      <td>0</td>\n",
       "      <td>0.0708</td>\n",
       "      <td>-0.8920</td>\n",
       "      <td>-0.0680</td>\n",
       "      <td>-1.0940</td>\n",
       "      <td>-0.3416</td>\n",
       "      <td>-1.8050</td>\n",
       "    </tr>\n",
       "    <tr>\n",
       "      <th>79697</th>\n",
       "      <td>0</td>\n",
       "      <td>0.3403</td>\n",
       "      <td>-0.8449</td>\n",
       "      <td>-0.0061</td>\n",
       "      <td>-0.9106</td>\n",
       "      <td>-0.2301</td>\n",
       "      <td>-1.0167</td>\n",
       "    </tr>\n",
       "    <tr>\n",
       "      <th>79698</th>\n",
       "      <td>0</td>\n",
       "      <td>0.4600</td>\n",
       "      <td>-1.1442</td>\n",
       "      <td>-0.1938</td>\n",
       "      <td>0.8030</td>\n",
       "      <td>-1.4117</td>\n",
       "      <td>1.7661</td>\n",
       "    </tr>\n",
       "    <tr>\n",
       "      <th>79699</th>\n",
       "      <td>0</td>\n",
       "      <td>0.2858</td>\n",
       "      <td>-0.5771</td>\n",
       "      <td>-0.1167</td>\n",
       "      <td>0.3690</td>\n",
       "      <td>1.1233</td>\n",
       "      <td>0.3888</td>\n",
       "    </tr>\n",
       "    <tr>\n",
       "      <th>79700</th>\n",
       "      <td>0</td>\n",
       "      <td>0.4643</td>\n",
       "      <td>-1.2717</td>\n",
       "      <td>-0.2465</td>\n",
       "      <td>0.3187</td>\n",
       "      <td>0.4724</td>\n",
       "      <td>0.8067</td>\n",
       "    </tr>\n",
       "    <tr>\n",
       "      <th>79701</th>\n",
       "      <td>0</td>\n",
       "      <td>0.2186</td>\n",
       "      <td>-1.1242</td>\n",
       "      <td>-0.0462</td>\n",
       "      <td>-0.6799</td>\n",
       "      <td>-2.1292</td>\n",
       "      <td>-1.2839</td>\n",
       "    </tr>\n",
       "    <tr>\n",
       "      <th>79702</th>\n",
       "      <td>0</td>\n",
       "      <td>0.3058</td>\n",
       "      <td>-0.8417</td>\n",
       "      <td>0.0318</td>\n",
       "      <td>-1.2912</td>\n",
       "      <td>0.5604</td>\n",
       "      <td>-1.8977</td>\n",
       "    </tr>\n",
       "    <tr>\n",
       "      <th>79703</th>\n",
       "      <td>0</td>\n",
       "      <td>0.4766</td>\n",
       "      <td>-0.9930</td>\n",
       "      <td>-0.1008</td>\n",
       "      <td>0.6611</td>\n",
       "      <td>0.4573</td>\n",
       "      <td>2.0361</td>\n",
       "    </tr>\n",
       "    <tr>\n",
       "      <th>79704</th>\n",
       "      <td>0</td>\n",
       "      <td>0.1078</td>\n",
       "      <td>-0.6923</td>\n",
       "      <td>-0.1297</td>\n",
       "      <td>0.3416</td>\n",
       "      <td>2.2821</td>\n",
       "      <td>1.5019</td>\n",
       "    </tr>\n",
       "    <tr>\n",
       "      <th>79705</th>\n",
       "      <td>0</td>\n",
       "      <td>0.5629</td>\n",
       "      <td>-1.1624</td>\n",
       "      <td>-0.2972</td>\n",
       "      <td>0.5738</td>\n",
       "      <td>-0.8353</td>\n",
       "      <td>1.2640</td>\n",
       "    </tr>\n",
       "    <tr>\n",
       "      <th>79706</th>\n",
       "      <td>0</td>\n",
       "      <td>0.3646</td>\n",
       "      <td>-1.3205</td>\n",
       "      <td>-0.0874</td>\n",
       "      <td>-1.1976</td>\n",
       "      <td>-1.2752</td>\n",
       "      <td>-1.7802</td>\n",
       "    </tr>\n",
       "    <tr>\n",
       "      <th>79707</th>\n",
       "      <td>0</td>\n",
       "      <td>0.3304</td>\n",
       "      <td>-0.8347</td>\n",
       "      <td>-0.0254</td>\n",
       "      <td>-1.1512</td>\n",
       "      <td>0.1917</td>\n",
       "      <td>-2.7683</td>\n",
       "    </tr>\n",
       "    <tr>\n",
       "      <th>79708</th>\n",
       "      <td>0</td>\n",
       "      <td>0.3221</td>\n",
       "      <td>-0.9888</td>\n",
       "      <td>0.0478</td>\n",
       "      <td>-0.2554</td>\n",
       "      <td>0.9846</td>\n",
       "      <td>0.7856</td>\n",
       "    </tr>\n",
       "    <tr>\n",
       "      <th>79709</th>\n",
       "      <td>0</td>\n",
       "      <td>0.3667</td>\n",
       "      <td>-1.1444</td>\n",
       "      <td>-0.0922</td>\n",
       "      <td>1.0611</td>\n",
       "      <td>-0.5958</td>\n",
       "      <td>2.8290</td>\n",
       "    </tr>\n",
       "    <tr>\n",
       "      <th>79710</th>\n",
       "      <td>0</td>\n",
       "      <td>0.5080</td>\n",
       "      <td>-0.8979</td>\n",
       "      <td>-0.2990</td>\n",
       "      <td>0.5062</td>\n",
       "      <td>0.7514</td>\n",
       "      <td>1.5515</td>\n",
       "    </tr>\n",
       "    <tr>\n",
       "      <th>79711</th>\n",
       "      <td>0</td>\n",
       "      <td>0.6479</td>\n",
       "      <td>-1.2042</td>\n",
       "      <td>-0.3986</td>\n",
       "      <td>-0.2206</td>\n",
       "      <td>-1.1703</td>\n",
       "      <td>-1.0020</td>\n",
       "    </tr>\n",
       "    <tr>\n",
       "      <th>79712</th>\n",
       "      <td>0</td>\n",
       "      <td>0.1926</td>\n",
       "      <td>-1.0121</td>\n",
       "      <td>-0.0499</td>\n",
       "      <td>-1.8186</td>\n",
       "      <td>1.0772</td>\n",
       "      <td>-3.3463</td>\n",
       "    </tr>\n",
       "    <tr>\n",
       "      <th>79713</th>\n",
       "      <td>0</td>\n",
       "      <td>0.3183</td>\n",
       "      <td>-0.8547</td>\n",
       "      <td>0.0382</td>\n",
       "      <td>-0.4821</td>\n",
       "      <td>-0.1329</td>\n",
       "      <td>-0.8018</td>\n",
       "    </tr>\n",
       "    <tr>\n",
       "      <th>79714</th>\n",
       "      <td>0</td>\n",
       "      <td>0.5090</td>\n",
       "      <td>-1.1068</td>\n",
       "      <td>-0.2642</td>\n",
       "      <td>1.3204</td>\n",
       "      <td>-1.0419</td>\n",
       "      <td>3.8343</td>\n",
       "    </tr>\n",
       "    <tr>\n",
       "      <th>79715</th>\n",
       "      <td>0</td>\n",
       "      <td>0.3424</td>\n",
       "      <td>-0.8256</td>\n",
       "      <td>-0.1507</td>\n",
       "      <td>0.7149</td>\n",
       "      <td>1.5048</td>\n",
       "      <td>1.4420</td>\n",
       "    </tr>\n",
       "    <tr>\n",
       "      <th>79716</th>\n",
       "      <td>0</td>\n",
       "      <td>0.5254</td>\n",
       "      <td>-1.2428</td>\n",
       "      <td>-0.3279</td>\n",
       "      <td>0.3349</td>\n",
       "      <td>0.0429</td>\n",
       "      <td>-0.0765</td>\n",
       "    </tr>\n",
       "    <tr>\n",
       "      <th>79717</th>\n",
       "      <td>0</td>\n",
       "      <td>0.4117</td>\n",
       "      <td>-1.2961</td>\n",
       "      <td>-0.0960</td>\n",
       "      <td>-1.0205</td>\n",
       "      <td>-1.9386</td>\n",
       "      <td>-1.8598</td>\n",
       "    </tr>\n",
       "    <tr>\n",
       "      <th>79718</th>\n",
       "      <td>0</td>\n",
       "      <td>0.2983</td>\n",
       "      <td>-0.9351</td>\n",
       "      <td>0.0601</td>\n",
       "      <td>-1.1732</td>\n",
       "      <td>0.4490</td>\n",
       "      <td>-3.0338</td>\n",
       "    </tr>\n",
       "    <tr>\n",
       "      <th>79719</th>\n",
       "      <td>0</td>\n",
       "      <td>0.3721</td>\n",
       "      <td>-0.9593</td>\n",
       "      <td>0.0207</td>\n",
       "      <td>0.3376</td>\n",
       "      <td>0.6406</td>\n",
       "      <td>1.3029</td>\n",
       "    </tr>\n",
       "  </tbody>\n",
       "</table>\n",
       "</div>"
      ],
      "text/plain": [
       "       activity  acceleration_x  acceleration_y  acceleration_z  gyro_x  \\\n",
       "79670         0          0.3605         -1.3903         -0.0751 -1.2553   \n",
       "79671         0          0.4173         -1.0257         -0.0496  0.2283   \n",
       "79672         0          0.1392         -0.7511         -0.0582  1.1432   \n",
       "79673         0          0.4475         -1.0380         -0.2802  0.4798   \n",
       "79674         0          0.5020         -1.0712         -0.2774 -0.4661   \n",
       "79675         0          0.3608         -0.8310         -0.0593 -0.4919   \n",
       "79676         0          0.3005         -1.0578          0.0464 -0.4411   \n",
       "79677         0          0.4035         -1.0898         -0.1158  0.8011   \n",
       "79678         0          0.3770         -0.8138         -0.1346  0.5468   \n",
       "79679         0          0.6059         -1.3421         -0.3215  0.2492   \n",
       "79680         0          0.1684         -1.0287         -0.0641 -1.8444   \n",
       "79681         0          0.2962         -0.9538          0.0706 -0.7240   \n",
       "79682         0          0.5139         -1.2168         -0.1722  1.2265   \n",
       "79683         0          0.1687         -0.7923         -0.1373  0.9665   \n",
       "79684         0          0.5182         -1.2145         -0.3087  0.2421   \n",
       "79685         0          0.1795         -1.2212          0.0061 -1.7480   \n",
       "79686         0          0.3291         -0.9332          0.0243 -0.7566   \n",
       "79687         0          0.2721         -0.9806         -0.1456 -0.0573   \n",
       "79688         0          0.8394         -0.2975         -0.0697 -0.5194   \n",
       "79689         0          0.7814         -0.5372          0.1072  0.5543   \n",
       "79690         0          0.6624         -1.1127         -0.2381  0.8819   \n",
       "79691         0          0.3057         -0.5738         -0.1380 -0.1289   \n",
       "79692         0          0.5465         -1.3666         -0.0885 -0.5378   \n",
       "79693         0          0.1465         -0.9995         -0.0234 -0.1113   \n",
       "79694         0          0.2323         -0.7020         -0.1138  0.1779   \n",
       "79695         0          0.4992         -1.3210         -0.1365  0.5616   \n",
       "79696         0          0.0708         -0.8920         -0.0680 -1.0940   \n",
       "79697         0          0.3403         -0.8449         -0.0061 -0.9106   \n",
       "79698         0          0.4600         -1.1442         -0.1938  0.8030   \n",
       "79699         0          0.2858         -0.5771         -0.1167  0.3690   \n",
       "79700         0          0.4643         -1.2717         -0.2465  0.3187   \n",
       "79701         0          0.2186         -1.1242         -0.0462 -0.6799   \n",
       "79702         0          0.3058         -0.8417          0.0318 -1.2912   \n",
       "79703         0          0.4766         -0.9930         -0.1008  0.6611   \n",
       "79704         0          0.1078         -0.6923         -0.1297  0.3416   \n",
       "79705         0          0.5629         -1.1624         -0.2972  0.5738   \n",
       "79706         0          0.3646         -1.3205         -0.0874 -1.1976   \n",
       "79707         0          0.3304         -0.8347         -0.0254 -1.1512   \n",
       "79708         0          0.3221         -0.9888          0.0478 -0.2554   \n",
       "79709         0          0.3667         -1.1444         -0.0922  1.0611   \n",
       "79710         0          0.5080         -0.8979         -0.2990  0.5062   \n",
       "79711         0          0.6479         -1.2042         -0.3986 -0.2206   \n",
       "79712         0          0.1926         -1.0121         -0.0499 -1.8186   \n",
       "79713         0          0.3183         -0.8547          0.0382 -0.4821   \n",
       "79714         0          0.5090         -1.1068         -0.2642  1.3204   \n",
       "79715         0          0.3424         -0.8256         -0.1507  0.7149   \n",
       "79716         0          0.5254         -1.2428         -0.3279  0.3349   \n",
       "79717         0          0.4117         -1.2961         -0.0960 -1.0205   \n",
       "79718         0          0.2983         -0.9351          0.0601 -1.1732   \n",
       "79719         0          0.3721         -0.9593          0.0207  0.3376   \n",
       "\n",
       "       gyro_y  gyro_z  \n",
       "79670 -1.1000 -1.4261  \n",
       "79671  0.8497  1.7944  \n",
       "79672 -0.2227  1.8020  \n",
       "79673  0.6652  1.3596  \n",
       "79674 -1.1742 -1.6174  \n",
       "79675 -0.7525 -2.9269  \n",
       "79676  0.8135  0.0454  \n",
       "79677 -1.0263  2.9432  \n",
       "79678  0.4809  1.0880  \n",
       "79679 -0.9078  0.3992  \n",
       "79680  0.9217 -3.0222  \n",
       "79681 -0.5918 -1.5104  \n",
       "79682 -1.1514  2.9236  \n",
       "79683  0.9371  1.1714  \n",
       "79684  0.1054  1.2071  \n",
       "79685 -0.2264 -2.7085  \n",
       "79686 -0.4125 -3.4009  \n",
       "79687  0.7323  2.4692  \n",
       "79688  0.7950 -0.3669  \n",
       "79689 -1.0536  1.0884  \n",
       "79690 -2.6670  0.9468  \n",
       "79691 -0.0526  0.5515  \n",
       "79692  1.4820  1.3191  \n",
       "79693  0.4870 -0.7412  \n",
       "79694 -0.1698  0.2338  \n",
       "79695 -1.2734  1.3148  \n",
       "79696 -0.3416 -1.8050  \n",
       "79697 -0.2301 -1.0167  \n",
       "79698 -1.4117  1.7661  \n",
       "79699  1.1233  0.3888  \n",
       "79700  0.4724  0.8067  \n",
       "79701 -2.1292 -1.2839  \n",
       "79702  0.5604 -1.8977  \n",
       "79703  0.4573  2.0361  \n",
       "79704  2.2821  1.5019  \n",
       "79705 -0.8353  1.2640  \n",
       "79706 -1.2752 -1.7802  \n",
       "79707  0.1917 -2.7683  \n",
       "79708  0.9846  0.7856  \n",
       "79709 -0.5958  2.8290  \n",
       "79710  0.7514  1.5515  \n",
       "79711 -1.1703 -1.0020  \n",
       "79712  1.0772 -3.3463  \n",
       "79713 -0.1329 -0.8018  \n",
       "79714 -1.0419  3.8343  \n",
       "79715  1.5048  1.4420  \n",
       "79716  0.0429 -0.0765  \n",
       "79717 -1.9386 -1.8598  \n",
       "79718  0.4490 -3.0338  \n",
       "79719  0.6406  1.3029  "
      ]
     },
     "execution_count": 45,
     "metadata": {},
     "output_type": "execute_result"
    }
   ],
   "source": [
    "train_data[-50:]"
   ]
  },
  {
   "cell_type": "code",
   "execution_count": 46,
   "id": "c2a46836",
   "metadata": {},
   "outputs": [],
   "source": [
    "last_50_train  = train_data[-50:]"
   ]
  },
  {
   "cell_type": "code",
   "execution_count": 47,
   "id": "7469743d",
   "metadata": {},
   "outputs": [],
   "source": [
    "new_test = np.concatenate((last_50_train, test_data), axis=0)"
   ]
  },
  {
   "cell_type": "code",
   "execution_count": 48,
   "id": "26bafd16",
   "metadata": {},
   "outputs": [
    {
     "data": {
      "text/plain": [
       "(8918, 7)"
      ]
     },
     "execution_count": 48,
     "metadata": {},
     "output_type": "execute_result"
    }
   ],
   "source": [
    "new_test.shape"
   ]
  },
  {
   "cell_type": "code",
   "execution_count": 49,
   "id": "336f12cc",
   "metadata": {},
   "outputs": [],
   "source": [
    "new_test = pd.DataFrame(new_test)"
   ]
  },
  {
   "cell_type": "code",
   "execution_count": 50,
   "id": "7457e786",
   "metadata": {},
   "outputs": [
    {
     "data": {
      "text/html": [
       "<div>\n",
       "<style scoped>\n",
       "    .dataframe tbody tr th:only-of-type {\n",
       "        vertical-align: middle;\n",
       "    }\n",
       "\n",
       "    .dataframe tbody tr th {\n",
       "        vertical-align: top;\n",
       "    }\n",
       "\n",
       "    .dataframe thead th {\n",
       "        text-align: right;\n",
       "    }\n",
       "</style>\n",
       "<table border=\"1\" class=\"dataframe\">\n",
       "  <thead>\n",
       "    <tr style=\"text-align: right;\">\n",
       "      <th></th>\n",
       "      <th>0</th>\n",
       "      <th>1</th>\n",
       "      <th>2</th>\n",
       "      <th>3</th>\n",
       "      <th>4</th>\n",
       "      <th>5</th>\n",
       "      <th>6</th>\n",
       "    </tr>\n",
       "  </thead>\n",
       "  <tbody>\n",
       "    <tr>\n",
       "      <th>0</th>\n",
       "      <td>0.0</td>\n",
       "      <td>0.3605</td>\n",
       "      <td>-1.3903</td>\n",
       "      <td>-0.0751</td>\n",
       "      <td>-1.2553</td>\n",
       "      <td>-1.1000</td>\n",
       "      <td>-1.4261</td>\n",
       "    </tr>\n",
       "    <tr>\n",
       "      <th>1</th>\n",
       "      <td>0.0</td>\n",
       "      <td>0.4173</td>\n",
       "      <td>-1.0257</td>\n",
       "      <td>-0.0496</td>\n",
       "      <td>0.2283</td>\n",
       "      <td>0.8497</td>\n",
       "      <td>1.7944</td>\n",
       "    </tr>\n",
       "    <tr>\n",
       "      <th>2</th>\n",
       "      <td>0.0</td>\n",
       "      <td>0.1392</td>\n",
       "      <td>-0.7511</td>\n",
       "      <td>-0.0582</td>\n",
       "      <td>1.1432</td>\n",
       "      <td>-0.2227</td>\n",
       "      <td>1.8020</td>\n",
       "    </tr>\n",
       "    <tr>\n",
       "      <th>3</th>\n",
       "      <td>0.0</td>\n",
       "      <td>0.4475</td>\n",
       "      <td>-1.0380</td>\n",
       "      <td>-0.2802</td>\n",
       "      <td>0.4798</td>\n",
       "      <td>0.6652</td>\n",
       "      <td>1.3596</td>\n",
       "    </tr>\n",
       "    <tr>\n",
       "      <th>4</th>\n",
       "      <td>0.0</td>\n",
       "      <td>0.5020</td>\n",
       "      <td>-1.0712</td>\n",
       "      <td>-0.2774</td>\n",
       "      <td>-0.4661</td>\n",
       "      <td>-1.1742</td>\n",
       "      <td>-1.6174</td>\n",
       "    </tr>\n",
       "  </tbody>\n",
       "</table>\n",
       "</div>"
      ],
      "text/plain": [
       "     0       1       2       3       4       5       6\n",
       "0  0.0  0.3605 -1.3903 -0.0751 -1.2553 -1.1000 -1.4261\n",
       "1  0.0  0.4173 -1.0257 -0.0496  0.2283  0.8497  1.7944\n",
       "2  0.0  0.1392 -0.7511 -0.0582  1.1432 -0.2227  1.8020\n",
       "3  0.0  0.4475 -1.0380 -0.2802  0.4798  0.6652  1.3596\n",
       "4  0.0  0.5020 -1.0712 -0.2774 -0.4661 -1.1742 -1.6174"
      ]
     },
     "execution_count": 50,
     "metadata": {},
     "output_type": "execute_result"
    }
   ],
   "source": [
    "new_test.head()"
   ]
  },
  {
   "cell_type": "code",
   "execution_count": 54,
   "id": "ec819920",
   "metadata": {},
   "outputs": [],
   "source": [
    "#CREATING sequencial data for lstms\n",
    "\n",
    "X_test = []\n",
    "y_test = []\n",
    "\n",
    "for i in range(50, 8918):\n",
    "    X_test.append(new_test.iloc[i-50:i,1:])\n",
    "    y_test.append(new_test[0].iloc[i])"
   ]
  },
  {
   "cell_type": "code",
   "execution_count": 55,
   "id": "7bdc9688",
   "metadata": {},
   "outputs": [],
   "source": [
    "X_test = np.array(X_test)"
   ]
  },
  {
   "cell_type": "code",
   "execution_count": 56,
   "id": "3b434a10",
   "metadata": {},
   "outputs": [
    {
     "data": {
      "text/plain": [
       "(8868, 50, 6)"
      ]
     },
     "execution_count": 56,
     "metadata": {},
     "output_type": "execute_result"
    }
   ],
   "source": [
    "X_test.shape"
   ]
  },
  {
   "cell_type": "code",
   "execution_count": 57,
   "id": "9275f2ba",
   "metadata": {},
   "outputs": [],
   "source": [
    "y_test = np.array(y_test)"
   ]
  },
  {
   "cell_type": "code",
   "execution_count": 58,
   "id": "fbaaebb0",
   "metadata": {},
   "outputs": [
    {
     "data": {
      "text/plain": [
       "(8868,)"
      ]
     },
     "execution_count": 58,
     "metadata": {},
     "output_type": "execute_result"
    }
   ],
   "source": [
    "y_test.shape"
   ]
  },
  {
   "cell_type": "code",
   "execution_count": 87,
   "id": "d7503dc0",
   "metadata": {},
   "outputs": [
    {
     "data": {
      "text/plain": [
       "<matplotlib.legend.Legend at 0x17ed9d3d988>"
      ]
     },
     "execution_count": 87,
     "metadata": {},
     "output_type": "execute_result"
    },
    {
     "data": {
      "image/png": "[encoded data removed]",
      "text/plain": [
       "<Figure size 432x288 with 1 Axes>"
      ]
     },
     "metadata": {
      "needs_background": "light"
     },
     "output_type": "display_data"
    }
   ],
   "source": [
    "plt.plot(y_test)\n",
    "plt.legend([\"Actutal Values\"])"
   ]
  },
  {
   "cell_type": "code",
   "execution_count": 60,
   "id": "d17efca5",
   "metadata": {},
   "outputs": [],
   "source": [
    "y_predict = model.predict(X_test)"
   ]
  },
  {
   "cell_type": "code",
   "execution_count": 86,
   "id": "647f144f",
   "metadata": {},
   "outputs": [
    {
     "data": {
      "text/plain": [
       "<matplotlib.legend.Legend at 0x17ed64bb1c8>"
      ]
     },
     "execution_count": 86,
     "metadata": {},
     "output_type": "execute_result"
    },
    {
     "data": {
      "image/png": "[encoded data removed]",
      "text/plain": [
       "<Figure size 432x288 with 1 Axes>"
      ]
     },
     "metadata": {
      "needs_background": "light"
     },
     "output_type": "display_data"
    }
   ],
   "source": [
    "plt.plot(y_predict,\"g\")\n",
    "plt.legend([\"Predicted Values\"])"
   ]
  },
  {
   "cell_type": "code",
   "execution_count": 88,
   "id": "ce2adfef",
   "metadata": {
    "scrolled": true
   },
   "outputs": [
    {
     "data": {
      "text/plain": [
       "<matplotlib.legend.Legend at 0x17eda673bc8>"
      ]
     },
     "execution_count": 88,
     "metadata": {},
     "output_type": "execute_result"
    },
    {
     "data": {
      "image/png": "[encoded data removed]",
      "text/plain": [
       "<Figure size 432x288 with 1 Axes>"
      ]
     },
     "metadata": {
      "needs_background": "light"
     },
     "output_type": "display_data"
    }
   ],
   "source": [
    "plt.plot(y_test,\"ro\")\n",
    "plt.plot(y_predict)\n",
    "plt.legend(['True Values', 'Predicted Values'])"
   ]
  },
  {
   "cell_type": "code",
   "execution_count": 72,
   "id": "8391450b",
   "metadata": {},
   "outputs": [
    {
     "data": {
      "text/plain": [
       "array([[7.4691309e-07],\n",
       "       [3.2952758e-07],\n",
       "       [8.4098718e-07],\n",
       "       ...,\n",
       "       [9.9999940e-01],\n",
       "       [1.0000000e+00],\n",
       "       [9.9999976e-01]], dtype=float32)"
      ]
     },
     "execution_count": 72,
     "metadata": {},
     "output_type": "execute_result"
    }
   ],
   "source": [
    "y_predict"
   ]
  },
  {
   "cell_type": "markdown",
   "id": "2afb5fec",
   "metadata": {},
   "source": [
    "### y_predict values are not in the form of 0 or 1 classes.\n",
    "We cant evaluate our model using this non binary values. So, we will convert them by settting a threshold of 0.5."
   ]
  },
  {
   "cell_type": "code",
   "execution_count": 76,
   "id": "257bbe5b",
   "metadata": {},
   "outputs": [],
   "source": [
    "y_pred_binary=[]\n",
    "for x in y_predict:\n",
    "    if x<=0.5:\n",
    "        y_pred_binary.append(0)\n",
    "    else:\n",
    "        y_pred_binary.append(1)"
   ]
  },
  {
   "cell_type": "code",
   "execution_count": 77,
   "id": "76d9ec98",
   "metadata": {},
   "outputs": [
    {
     "data": {
      "text/plain": [
       "<matplotlib.legend.Legend at 0x17ed653c348>"
      ]
     },
     "execution_count": 77,
     "metadata": {},
     "output_type": "execute_result"
    },
    {
     "data": {
      "image/png": "[encoded data removed]",
      "text/plain": [
       "<Figure size 432x288 with 1 Axes>"
      ]
     },
     "metadata": {
      "needs_background": "light"
     },
     "output_type": "display_data"
    }
   ],
   "source": [
    "plt.plot(y_test,\"ro\")\n",
    "plt.plot(y_pred_binary)\n",
    "plt.legend(['true', 'predicted'])"
   ]
  },
  {
   "cell_type": "markdown",
   "id": "9467be98",
   "metadata": {},
   "source": [
    "# Metrics Evaluation"
   ]
  },
  {
   "cell_type": "code",
   "execution_count": 78,
   "id": "ce8e9a8e",
   "metadata": {},
   "outputs": [],
   "source": [
    "from sklearn.metrics import accuracy_score, classification_report"
   ]
  },
  {
   "cell_type": "code",
   "execution_count": 80,
   "id": "06ed08eb",
   "metadata": {},
   "outputs": [
    {
     "data": {
      "text/plain": [
       "0.9995489400090212"
      ]
     },
     "execution_count": 80,
     "metadata": {},
     "output_type": "execute_result"
    }
   ],
   "source": [
    "accuracy_score(y_test,y_pred_binary)"
   ]
  },
  {
   "cell_type": "code",
   "execution_count": 82,
   "id": "3d928fc0",
   "metadata": {},
   "outputs": [
    {
     "name": "stdout",
     "output_type": "stream",
     "text": [
      "              precision    recall  f1-score   support\n",
      "\n",
      "         0.0       1.00      1.00      1.00      2057\n",
      "         1.0       1.00      1.00      1.00      6811\n",
      "\n",
      "    accuracy                           1.00      8868\n",
      "   macro avg       1.00      1.00      1.00      8868\n",
      "weighted avg       1.00      1.00      1.00      8868\n",
      "\n"
     ]
    }
   ],
   "source": [
    "print(classification_report(y_test,y_pred_binary))"
   ]
  },
  {
   "cell_type": "markdown",
   "id": "58ed80ad",
   "metadata": {},
   "source": [
    "# Conclusions\n",
    "\n",
    "\n",
    "We have got 100% accuracy with Lstms. Since Lstms work very well with sequential data, the results are more accurate with LSTMs than normal models."
   ]
  },
  {
   "cell_type": "code",
   "execution_count": null,
   "id": "a650e2de",
   "metadata": {},
   "outputs": [],
   "source": []
  },
  {
   "cell_type": "code",
   "execution_count": null,
   "id": "9ada76cc",
   "metadata": {},
   "outputs": [],
   "source": []
  }
 ],
 "metadata": {
  "kernelspec": {
   "display_name": "Python 3 (ipykernel)",
   "language": "python",
   "name": "python3"
  },
  "language_info": {
   "codemirror_mode": {
    "name": "ipython",
    "version": 3
   },
   "file_extension": ".py",
   "mimetype": "text/x-python",
   "name": "python",
   "nbconvert_exporter": "python",
   "pygments_lexer": "ipython3",
   "version": "3.7.11"
  }
 },
 "nbformat": 4,
 "nbformat_minor": 5
}
